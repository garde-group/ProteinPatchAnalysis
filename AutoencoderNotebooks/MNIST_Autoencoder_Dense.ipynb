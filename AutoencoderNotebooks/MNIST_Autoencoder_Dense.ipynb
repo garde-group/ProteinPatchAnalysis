{
 "cells": [
  {
   "cell_type": "code",
   "execution_count": null,
   "metadata": {},
   "outputs": [],
   "source": [
    "# From Tutorial: https://blog.keras.io/building-autoencoders-in-keras.html"
   ]
  },
  {
   "cell_type": "code",
   "execution_count": 1,
   "metadata": {},
   "outputs": [
    {
     "name": "stderr",
     "output_type": "stream",
     "text": [
      "Using TensorFlow backend.\n"
     ]
    }
   ],
   "source": [
    "import keras\n",
    "\n",
    "from keras.layers import Input, Dense\n",
    "from keras.models import Model\n",
    "from keras import regularizers"
   ]
  },
  {
   "cell_type": "code",
   "execution_count": 2,
   "metadata": {},
   "outputs": [],
   "source": [
    "# this is the size of our encoded representations\n",
    "encoding_dim = 32  # 32 floats -> compression of factor 24.5, assuming the input is 784 floats\n",
    "\n",
    "# this is our input placeholder\n",
    "input_img = Input(shape=(784,))\n",
    "# \"encoded\" is the encoded representation of the input\n",
    "encoded = Dense(encoding_dim, activation='relu')(input_img)\n",
    "# \"decoded\" is the lossy reconstruction of the input\n",
    "decoded = Dense(784, activation='sigmoid')(encoded)"
   ]
  },
  {
   "cell_type": "code",
   "execution_count": 3,
   "metadata": {},
   "outputs": [],
   "source": [
    "# this model maps an input to its reconstruction\n",
    "autoencoder = Model(input_img, decoded)"
   ]
  },
  {
   "cell_type": "code",
   "execution_count": 4,
   "metadata": {},
   "outputs": [],
   "source": [
    "# this model maps an input to its encoded representation\n",
    "encoder = Model(input_img, encoded)"
   ]
  },
  {
   "cell_type": "code",
   "execution_count": 5,
   "metadata": {},
   "outputs": [],
   "source": [
    "# create a placeholder for an encoded (32-dimensional) input\n",
    "encoded_input = Input(shape=(encoding_dim,))\n",
    "# retrieve the last layer of the autoencoder model\n",
    "decoder_layer = autoencoder.layers[-1]\n",
    "# create the decoder model\n",
    "decoder = Model(encoded_input, decoder_layer(encoded_input))"
   ]
  },
  {
   "cell_type": "code",
   "execution_count": 6,
   "metadata": {},
   "outputs": [],
   "source": [
    "autoencoder.compile(optimizer='adadelta', loss='binary_crossentropy')"
   ]
  },
  {
   "cell_type": "code",
   "execution_count": 7,
   "metadata": {},
   "outputs": [],
   "source": [
    "from keras.datasets import mnist\n",
    "import numpy as np\n",
    "(x_train, _), (x_test, _) = mnist.load_data()"
   ]
  },
  {
   "cell_type": "code",
   "execution_count": 8,
   "metadata": {},
   "outputs": [],
   "source": [
    "x_train = x_train.astype('float32') / 255.\n",
    "x_test = x_test.astype('float32') / 255.\n",
    "x_train = x_train.reshape((len(x_train), np.prod(x_train.shape[1:])))\n",
    "x_test = x_test.reshape((len(x_test), np.prod(x_test.shape[1:])))"
   ]
  },
  {
   "cell_type": "code",
   "execution_count": 9,
   "metadata": {},
   "outputs": [
    {
     "name": "stdout",
     "output_type": "stream",
     "text": [
      "Train on 60000 samples, validate on 10000 samples\n",
      "Epoch 1/100\n",
      "60000/60000 [==============================] - 8s 135us/step - loss: 0.3621 - val_loss: 0.2717\n",
      "Epoch 2/100\n",
      "60000/60000 [==============================] - 6s 105us/step - loss: 0.2644 - val_loss: 0.2532\n",
      "Epoch 3/100\n",
      "60000/60000 [==============================] - 7s 116us/step - loss: 0.2421 - val_loss: 0.2292\n",
      "Epoch 4/100\n",
      "60000/60000 [==============================] - 6s 106us/step - loss: 0.2214 - val_loss: 0.2118\n",
      "Epoch 5/100\n",
      "60000/60000 [==============================] - 7s 117us/step - loss: 0.2072 - val_loss: 0.2000\n",
      "Epoch 6/100\n",
      "60000/60000 [==============================] - 6s 94us/step - loss: 0.1968 - val_loss: 0.1908\n",
      "Epoch 7/100\n",
      "60000/60000 [==============================] - 5s 81us/step - loss: 0.1887 - val_loss: 0.1836\n",
      "Epoch 8/100\n",
      "60000/60000 [==============================] - 6s 103us/step - loss: 0.1822 - val_loss: 0.1776\n",
      "Epoch 9/100\n",
      "60000/60000 [==============================] - 6s 101us/step - loss: 0.1765 - val_loss: 0.1722\n",
      "Epoch 10/100\n",
      "60000/60000 [==============================] - 7s 115us/step - loss: 0.1714 - val_loss: 0.1675\n",
      "Epoch 11/100\n",
      "60000/60000 [==============================] - 7s 117us/step - loss: 0.1669 - val_loss: 0.1632\n",
      "Epoch 12/100\n",
      "60000/60000 [==============================] - 6s 94us/step - loss: 0.1628 - val_loss: 0.1594\n",
      "Epoch 13/100\n",
      "60000/60000 [==============================] - 6s 99us/step - loss: 0.1591 - val_loss: 0.1558\n",
      "Epoch 14/100\n",
      "60000/60000 [==============================] - 6s 93us/step - loss: 0.1557 - val_loss: 0.1523\n",
      "Epoch 15/100\n",
      "60000/60000 [==============================] - 6s 105us/step - loss: 0.1525 - val_loss: 0.1494\n",
      "Epoch 16/100\n",
      "60000/60000 [==============================] - 6s 96us/step - loss: 0.1496 - val_loss: 0.1467\n",
      "Epoch 17/100\n",
      "60000/60000 [==============================] - 6s 97us/step - loss: 0.1468 - val_loss: 0.1438\n",
      "Epoch 18/100\n",
      "60000/60000 [==============================] - 7s 109us/step - loss: 0.1442 - val_loss: 0.1413\n",
      "Epoch 19/100\n",
      "60000/60000 [==============================] - 6s 106us/step - loss: 0.1417 - val_loss: 0.1388: 0s - loss: 0\n",
      "Epoch 20/100\n",
      "60000/60000 [==============================] - 6s 106us/step - loss: 0.1393 - val_loss: 0.1365\n",
      "Epoch 21/100\n",
      "60000/60000 [==============================] - 6s 96us/step - loss: 0.1370 - val_loss: 0.1342\n",
      "Epoch 22/100\n",
      "60000/60000 [==============================] - 5s 89us/step - loss: 0.1348 - val_loss: 0.1320\n",
      "Epoch 23/100\n",
      "60000/60000 [==============================] - 6s 99us/step - loss: 0.1327 - val_loss: 0.1300\n",
      "Epoch 24/100\n",
      "60000/60000 [==============================] - 6s 104us/step - loss: 0.1307 - val_loss: 0.1281\n",
      "Epoch 25/100\n",
      "60000/60000 [==============================] - 6s 95us/step - loss: 0.1288 - val_loss: 0.1262\n",
      "Epoch 26/100\n",
      "60000/60000 [==============================] - 7s 111us/step - loss: 0.1270 - val_loss: 0.1244\n",
      "Epoch 27/100\n",
      "60000/60000 [==============================] - 6s 92us/step - loss: 0.1253 - val_loss: 0.1228\n",
      "Epoch 28/100\n",
      "60000/60000 [==============================] - 6s 97us/step - loss: 0.1237 - val_loss: 0.1212\n",
      "Epoch 29/100\n",
      "60000/60000 [==============================] - 6s 99us/step - loss: 0.1222 - val_loss: 0.1197\n",
      "Epoch 30/100\n",
      "60000/60000 [==============================] - 6s 101us/step - loss: 0.1208 - val_loss: 0.1183\n",
      "Epoch 31/100\n",
      "60000/60000 [==============================] - 6s 101us/step - loss: 0.1194 - val_loss: 0.1170\n",
      "Epoch 32/100\n",
      "60000/60000 [==============================] - 7s 118us/step - loss: 0.1181 - val_loss: 0.1158\n",
      "Epoch 33/100\n",
      "60000/60000 [==============================] - 5s 90us/step - loss: 0.1169 - val_loss: 0.1146\n",
      "Epoch 34/100\n",
      "60000/60000 [==============================] - 6s 104us/step - loss: 0.1157 - val_loss: 0.1134\n",
      "Epoch 35/100\n",
      "60000/60000 [==============================] - 6s 94us/step - loss: 0.1146 - val_loss: 0.1124\n",
      "Epoch 36/100\n",
      "60000/60000 [==============================] - 6s 98us/step - loss: 0.1136 - val_loss: 0.1114\n",
      "Epoch 37/100\n",
      "60000/60000 [==============================] - 6s 106us/step - loss: 0.1127 - val_loss: 0.1105\n",
      "Epoch 38/100\n",
      "60000/60000 [==============================] - 6s 108us/step - loss: 0.1118 - val_loss: 0.1096\n",
      "Epoch 39/100\n",
      "60000/60000 [==============================] - 6s 100us/step - loss: 0.1109 - val_loss: 0.1088\n",
      "Epoch 40/100\n",
      "60000/60000 [==============================] - 5s 91us/step - loss: 0.1102 - val_loss: 0.1081\n",
      "Epoch 41/100\n",
      "60000/60000 [==============================] - 6s 94us/step - loss: 0.1095 - val_loss: 0.1074\n",
      "Epoch 42/100\n",
      "60000/60000 [==============================] - 6s 93us/step - loss: 0.1088 - val_loss: 0.1067\n",
      "Epoch 43/100\n",
      "60000/60000 [==============================] - 6s 93us/step - loss: 0.1082 - val_loss: 0.1061\n",
      "Epoch 44/100\n",
      "60000/60000 [==============================] - 5s 91us/step - loss: 0.1076 - val_loss: 0.1056\n",
      "Epoch 45/100\n",
      "60000/60000 [==============================] - 6s 99us/step - loss: 0.1070 - val_loss: 0.1051\n",
      "Epoch 46/100\n",
      "60000/60000 [==============================] - 6s 95us/step - loss: 0.1065 - val_loss: 0.1046\n",
      "Epoch 47/100\n",
      "60000/60000 [==============================] - 9s 147us/step - loss: 0.1061 - val_loss: 0.1041\n",
      "Epoch 48/100\n",
      "60000/60000 [==============================] - 6s 108us/step - loss: 0.1056 - val_loss: 0.1037\n",
      "Epoch 49/100\n",
      "60000/60000 [==============================] - 6s 103us/step - loss: 0.1052 - val_loss: 0.1033\n",
      "Epoch 50/100\n",
      "60000/60000 [==============================] - 6s 102us/step - loss: 0.1048 - val_loss: 0.1029\n",
      "Epoch 51/100\n",
      "60000/60000 [==============================] - 6s 93us/step - loss: 0.1044 - val_loss: 0.1026\n",
      "Epoch 52/100\n",
      "60000/60000 [==============================] - 6s 92us/step - loss: 0.1041 - val_loss: 0.1022\n",
      "Epoch 53/100\n",
      "60000/60000 [==============================] - 6s 100us/step - loss: 0.1038 - val_loss: 0.1019\n",
      "Epoch 54/100\n",
      "60000/60000 [==============================] - 6s 96us/step - loss: 0.1035 - val_loss: 0.1016\n",
      "Epoch 55/100\n",
      "60000/60000 [==============================] - 6s 106us/step - loss: 0.1032 - val_loss: 0.1014\n",
      "Epoch 56/100\n",
      "60000/60000 [==============================] - 6s 101us/step - loss: 0.1029 - val_loss: 0.1011\n",
      "Epoch 57/100\n",
      "60000/60000 [==============================] - 7s 111us/step - loss: 0.1027 - val_loss: 0.1009\n",
      "Epoch 58/100\n",
      "60000/60000 [==============================] - 7s 113us/step - loss: 0.1024 - val_loss: 0.1006\n",
      "Epoch 59/100\n",
      "60000/60000 [==============================] - 6s 93us/step - loss: 0.1022 - val_loss: 0.1004\n",
      "Epoch 60/100\n",
      "60000/60000 [==============================] - 6s 93us/step - loss: 0.1020 - val_loss: 0.1002\n",
      "Epoch 61/100\n",
      "60000/60000 [==============================] - 6s 98us/step - loss: 0.1018 - val_loss: 0.1000\n",
      "Epoch 62/100\n",
      "60000/60000 [==============================] - 5s 90us/step - loss: 0.1016 - val_loss: 0.0998\n",
      "Epoch 63/100\n",
      "60000/60000 [==============================] - 6s 100us/step - loss: 0.1014 - val_loss: 0.0996\n",
      "Epoch 64/100\n",
      "60000/60000 [==============================] - 6s 93us/step - loss: 0.1012 - val_loss: 0.0995\n",
      "Epoch 65/100\n",
      "60000/60000 [==============================] - 5s 88us/step - loss: 0.1010 - val_loss: 0.0993\n",
      "Epoch 66/100\n",
      "60000/60000 [==============================] - 6s 95us/step - loss: 0.1009 - val_loss: 0.0992\n",
      "Epoch 67/100\n",
      "60000/60000 [==============================] - 6s 93us/step - loss: 0.1007 - val_loss: 0.0990\n",
      "Epoch 68/100\n",
      "60000/60000 [==============================] - 5s 90us/step - loss: 0.1006 - val_loss: 0.0989\n",
      "Epoch 69/100\n",
      "60000/60000 [==============================] - 6s 108us/step - loss: 0.1005 - val_loss: 0.0988\n",
      "Epoch 70/100\n",
      "60000/60000 [==============================] - 5s 88us/step - loss: 0.1004 - val_loss: 0.0987\n",
      "Epoch 71/100\n",
      "60000/60000 [==============================] - 5s 91us/step - loss: 0.1002 - val_loss: 0.0986\n",
      "Epoch 72/100\n",
      "60000/60000 [==============================] - 6s 97us/step - loss: 0.1001 - val_loss: 0.0985\n",
      "Epoch 73/100\n",
      "60000/60000 [==============================] - 6s 93us/step - loss: 0.1000 - val_loss: 0.0984\n",
      "Epoch 74/100\n",
      "60000/60000 [==============================] - 5s 91us/step - loss: 0.0999 - val_loss: 0.0983\n",
      "Epoch 75/100\n",
      "60000/60000 [==============================] - 6s 101us/step - loss: 0.0998 - val_loss: 0.0982\n",
      "Epoch 76/100\n"
     ]
    },
    {
     "name": "stdout",
     "output_type": "stream",
     "text": [
      "60000/60000 [==============================] - 6s 95us/step - loss: 0.0997 - val_loss: 0.0981\n",
      "Epoch 77/100\n",
      "60000/60000 [==============================] - 6s 95us/step - loss: 0.0996 - val_loss: 0.0980\n",
      "Epoch 78/100\n",
      "60000/60000 [==============================] - 6s 96us/step - loss: 0.0995 - val_loss: 0.0979\n",
      "Epoch 79/100\n",
      "60000/60000 [==============================] - 5s 91us/step - loss: 0.0995 - val_loss: 0.0978\n",
      "Epoch 80/100\n",
      "60000/60000 [==============================] - 6s 93us/step - loss: 0.0994 - val_loss: 0.0977\n",
      "Epoch 81/100\n",
      "60000/60000 [==============================] - 6s 95us/step - loss: 0.0993 - val_loss: 0.0977\n",
      "Epoch 82/100\n",
      "60000/60000 [==============================] - 6s 94us/step - loss: 0.0992 - val_loss: 0.0976\n",
      "Epoch 83/100\n",
      "60000/60000 [==============================] - 6s 95us/step - loss: 0.0992 - val_loss: 0.0975\n",
      "Epoch 84/100\n",
      "60000/60000 [==============================] - 6s 95us/step - loss: 0.0991 - val_loss: 0.0975\n",
      "Epoch 85/100\n",
      "60000/60000 [==============================] - 6s 92us/step - loss: 0.0990 - val_loss: 0.0974\n",
      "Epoch 86/100\n",
      "60000/60000 [==============================] - 6s 98us/step - loss: 0.0989 - val_loss: 0.0974\n",
      "Epoch 87/100\n",
      "60000/60000 [==============================] - 6s 92us/step - loss: 0.0989 - val_loss: 0.0973\n",
      "Epoch 88/100\n",
      "60000/60000 [==============================] - 5s 91us/step - loss: 0.0988 - val_loss: 0.0972\n",
      "Epoch 89/100\n",
      "60000/60000 [==============================] - 6s 104us/step - loss: 0.0987 - val_loss: 0.0972\n",
      "Epoch 90/100\n",
      "60000/60000 [==============================] - 6s 93us/step - loss: 0.0987 - val_loss: 0.0971\n",
      "Epoch 91/100\n",
      "60000/60000 [==============================] - 6s 95us/step - loss: 0.0986 - val_loss: 0.0970\n",
      "Epoch 92/100\n",
      "60000/60000 [==============================] - 6s 95us/step - loss: 0.0985 - val_loss: 0.0970\n",
      "Epoch 93/100\n",
      "60000/60000 [==============================] - 6s 92us/step - loss: 0.0985 - val_loss: 0.0969\n",
      "Epoch 94/100\n",
      "60000/60000 [==============================] - 6s 93us/step - loss: 0.0984 - val_loss: 0.0968\n",
      "Epoch 95/100\n",
      "60000/60000 [==============================] - 6s 94us/step - loss: 0.0983 - val_loss: 0.0968\n",
      "Epoch 96/100\n",
      "60000/60000 [==============================] - 5s 87us/step - loss: 0.0983 - val_loss: 0.0967\n",
      "Epoch 97/100\n",
      "60000/60000 [==============================] - 5s 91us/step - loss: 0.0982 - val_loss: 0.0966\n",
      "Epoch 98/100\n",
      "60000/60000 [==============================] - 6s 96us/step - loss: 0.0981 - val_loss: 0.0966\n",
      "Epoch 99/100\n",
      "60000/60000 [==============================] - 5s 89us/step - loss: 0.0981 - val_loss: 0.0966\n",
      "Epoch 100/100\n",
      "60000/60000 [==============================] - 6s 94us/step - loss: 0.0980 - val_loss: 0.0965\n"
     ]
    }
   ],
   "source": [
    "history = autoencoder.fit(x_train, x_train,\n",
    "                epochs=100,\n",
    "                batch_size=256,\n",
    "                shuffle=True,\n",
    "                validation_data=(x_test, x_test))"
   ]
  },
  {
   "cell_type": "code",
   "execution_count": 11,
   "metadata": {},
   "outputs": [
    {
     "data": {
      "image/png": "[encoded data removed]",
      "text/plain": [
       "<Figure size 432x288 with 1 Axes>"
      ]
     },
     "metadata": {
      "needs_background": "light"
     },
     "output_type": "display_data"
    }
   ],
   "source": [
    "import matplotlib.pyplot as plt\n",
    "\n",
    "history_dict = history.history\n",
    "\n",
    "loss_values = history_dict['loss']\n",
    "val_loss_values = history_dict['val_loss']\n",
    "\n",
    "epochs = range(1, 101)\n",
    "\n",
    "plt.plot(epochs, loss_values, 'bo', label='Training loss')\n",
    "plt.plot(epochs, val_loss_values, 'b', label='Validation loss')\n",
    "plt.title('Training and validation loss')\n",
    "plt.xlabel('Epochs')\n",
    "plt.ylabel('Loss')\n",
    "plt.legend()\n",
    "plt.show()"
   ]
  },
  {
   "cell_type": "code",
   "execution_count": 12,
   "metadata": {},
   "outputs": [],
   "source": [
    "\n",
    "encoded_imgs = encoder.predict(x_test)\n",
    "decoded_imgs = decoder.predict(encoded_imgs)"
   ]
  },
  {
   "cell_type": "code",
   "execution_count": 13,
   "metadata": {},
   "outputs": [
    {
     "data": {
      "image/png": "[encoded data removed]",
      "text/plain": [
       "<Figure size 1440x288 with 40 Axes>"
      ]
     },
     "metadata": {
      "needs_background": "light"
     },
     "output_type": "display_data"
    }
   ],
   "source": [
    "n = 20  # how many digits we will display\n",
    "plt.figure(figsize=(20, 4))\n",
    "\n",
    "for i in range(n):\n",
    "    # display original\n",
    "    ax = plt.subplot(2, n, i + 1)\n",
    "    plt.imshow(x_test[i].reshape(28, 28))\n",
    "    plt.gray()\n",
    "    ax.get_xaxis().set_visible(False)\n",
    "    ax.get_yaxis().set_visible(False)\n",
    "\n",
    "    # display reconstruction\n",
    "    ax = plt.subplot(2, n, i + 1 + n)\n",
    "    plt.imshow(decoded_imgs[i].reshape(28, 28))\n",
    "    plt.gray()\n",
    "    ax.get_xaxis().set_visible(False)\n",
    "    ax.get_yaxis().set_visible(False)\n",
    "    \n",
    "plt.show()"
   ]
  },
  {
   "cell_type": "code",
   "execution_count": null,
   "metadata": {},
   "outputs": [],
   "source": []
  }
 ],
 "metadata": {
  "kernelspec": {
   "display_name": "Python 3",
   "language": "python",
   "name": "python3"
  },
  "language_info": {
   "codemirror_mode": {
    "name": "ipython",
    "version": 3
   },
   "file_extension": ".py",
   "mimetype": "text/x-python",
   "name": "python",
   "nbconvert_exporter": "python",
   "pygments_lexer": "ipython3",
   "version": "3.6.8"
  }
 },
 "nbformat": 4,
 "nbformat_minor": 2
}
