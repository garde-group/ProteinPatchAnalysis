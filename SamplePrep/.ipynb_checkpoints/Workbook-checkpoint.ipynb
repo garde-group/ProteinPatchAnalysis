{
 "cells": [
  {
   "cell_type": "code",
   "execution_count": 20,
   "metadata": {},
   "outputs": [],
   "source": [
    "import numpy as np\n",
    "import matplotlib as mpl\n",
    "import matplotlib.pyplot as plt\n",
    "import matplotlib.gridspec as gridspec\n",
    "import matplotlib.cm as cm\n",
    "import matplotlib.colors as col\n",
    "from scipy.optimize import curve_fit\n",
    "import pandas as pd\n",
    "from math import factorial\n",
    "import random\n",
    "import time\n",
    "import Bio\n",
    "import pickle\n",
    "from mpl_toolkits.mplot3d import Axes3D\n",
    "import os\n",
    "import shutil"
   ]
  },
  {
   "cell_type": "code",
   "execution_count": 21,
   "metadata": {},
   "outputs": [],
   "source": [
    "import voxelize_functions\n",
    "from voxelize_functions import *"
   ]
  },
  {
   "cell_type": "code",
   "execution_count": 22,
   "metadata": {},
   "outputs": [],
   "source": [
    "from Bio.PDB.PDBParser import PDBParser\n",
    "parser = PDBParser(PERMISSIVE=1)"
   ]
  },
  {
   "cell_type": "code",
   "execution_count": 23,
   "metadata": {},
   "outputs": [],
   "source": [
    "start = time.time()"
   ]
  },
  {
   "cell_type": "code",
   "execution_count": 29,
   "metadata": {},
   "outputs": [],
   "source": [
    "# Settings\n",
    "cutoff = 10 # Cutoff (beyond which a point cannot feel an atom) (angstroms)\n",
    "std = 1.0 #standard deviation for gaussian\n",
    "dx = 0.5 # voxel size\n",
    "side_length = 10 # patch size in angstroms\n",
    "proc_file=0\n",
    "curr_path = os.getcwd()\n",
    "# assume that pdb files are in a subdirectory named \"pdb\"\n",
    "pdb_path = os.path.join(curr_path,'pdb')\n",
    "pickle_path = os.path.join(curr_path,'pickle')\n",
    "all_files = os.listdir(pdb_path)"
   ]
  },
  {
   "cell_type": "code",
   "execution_count": 30,
   "metadata": {
    "scrolled": true
   },
   "outputs": [
    {
     "name": "stdout",
     "output_type": "stream",
     "text": [
      "Assessing Residue <Residue MET het=  resseq=1 icode= >\n",
      "Assessing Residue <Residue GLN het=  resseq=2 icode= >\n",
      "Assessing Residue <Residue ILE het=  resseq=3 icode= >\n",
      "Assessing Residue <Residue PHE het=  resseq=4 icode= >\n",
      "Assessing Residue <Residue VAL het=  resseq=5 icode= >\n",
      "Assessing Residue <Residue LYS het=  resseq=6 icode= >\n",
      "Assessing Residue <Residue THR het=  resseq=7 icode= >\n",
      "Assessing Residue <Residue LEU het=  resseq=8 icode= >\n",
      "Assessing Residue <Residue THR het=  resseq=9 icode= >\n",
      "Assessing Residue <Residue GLY het=  resseq=10 icode= >\n",
      "Assessing Residue <Residue LYS het=  resseq=11 icode= >\n",
      "Assessing Residue <Residue THR het=  resseq=12 icode= >\n",
      "Assessing Residue <Residue ILE het=  resseq=13 icode= >\n",
      "Assessing Residue <Residue THR het=  resseq=14 icode= >\n",
      "Assessing Residue <Residue LEU het=  resseq=15 icode= >\n",
      "Assessing Residue <Residue GLU het=  resseq=16 icode= >\n",
      "Assessing Residue <Residue VAL het=  resseq=17 icode= >\n",
      "Assessing Residue <Residue GLU het=  resseq=18 icode= >\n",
      "Assessing Residue <Residue PRO het=  resseq=19 icode= >\n",
      "Assessing Residue <Residue SER het=  resseq=20 icode= >\n",
      "Assessing Residue <Residue ASP het=  resseq=21 icode= >\n",
      "Assessing Residue <Residue THR het=  resseq=22 icode= >\n",
      "Assessing Residue <Residue ILE het=  resseq=23 icode= >\n",
      "Assessing Residue <Residue GLU het=  resseq=24 icode= >\n",
      "Assessing Residue <Residue ASN het=  resseq=25 icode= >\n",
      "Assessing Residue <Residue VAL het=  resseq=26 icode= >\n",
      "Assessing Residue <Residue LYS het=  resseq=27 icode= >\n",
      "Assessing Residue <Residue ALA het=  resseq=28 icode= >\n",
      "Assessing Residue <Residue LYS het=  resseq=29 icode= >\n",
      "Assessing Residue <Residue ILE het=  resseq=30 icode= >\n",
      "Assessing Residue <Residue GLN het=  resseq=31 icode= >\n",
      "Assessing Residue <Residue ASP het=  resseq=32 icode= >\n",
      "Assessing Residue <Residue LYS het=  resseq=33 icode= >\n",
      "Assessing Residue <Residue GLU het=  resseq=34 icode= >\n",
      "Assessing Residue <Residue GLY het=  resseq=35 icode= >\n",
      "Assessing Residue <Residue ILE het=  resseq=36 icode= >\n",
      "Assessing Residue <Residue PRO het=  resseq=37 icode= >\n",
      "Assessing Residue <Residue PRO het=  resseq=38 icode= >\n",
      "Assessing Residue <Residue ASP het=  resseq=39 icode= >\n",
      "Assessing Residue <Residue GLN het=  resseq=40 icode= >\n",
      "Assessing Residue <Residue GLN het=  resseq=41 icode= >\n",
      "Assessing Residue <Residue ARG het=  resseq=42 icode= >\n",
      "Assessing Residue <Residue LEU het=  resseq=43 icode= >\n",
      "Assessing Residue <Residue ILE het=  resseq=44 icode= >\n",
      "Assessing Residue <Residue PHE het=  resseq=45 icode= >\n",
      "Assessing Residue <Residue ALA het=  resseq=46 icode= >\n",
      "Assessing Residue <Residue GLY het=  resseq=47 icode= >\n",
      "Assessing Residue <Residue LYS het=  resseq=48 icode= >\n",
      "Assessing Residue <Residue GLN het=  resseq=49 icode= >\n",
      "Assessing Residue <Residue LEU het=  resseq=50 icode= >\n",
      "Assessing Residue <Residue GLU het=  resseq=51 icode= >\n",
      "Assessing Residue <Residue ASP het=  resseq=52 icode= >\n",
      "Assessing Residue <Residue GLY het=  resseq=53 icode= >\n",
      "Assessing Residue <Residue ARG het=  resseq=54 icode= >\n",
      "Assessing Residue <Residue THR het=  resseq=55 icode= >\n",
      "Assessing Residue <Residue LEU het=  resseq=56 icode= >\n",
      "Assessing Residue <Residue SER het=  resseq=57 icode= >\n",
      "Assessing Residue <Residue ASP het=  resseq=58 icode= >\n",
      "Assessing Residue <Residue TYR het=  resseq=59 icode= >\n",
      "Assessing Residue <Residue ASN het=  resseq=60 icode= >\n",
      "Assessing Residue <Residue ILE het=  resseq=61 icode= >\n",
      "Assessing Residue <Residue GLN het=  resseq=62 icode= >\n",
      "Assessing Residue <Residue LYS het=  resseq=63 icode= >\n",
      "Assessing Residue <Residue GLU het=  resseq=64 icode= >\n",
      "Assessing Residue <Residue SER het=  resseq=65 icode= >\n",
      "Assessing Residue <Residue THR het=  resseq=66 icode= >\n",
      "Assessing Residue <Residue LEU het=  resseq=67 icode= >\n",
      "Assessing Residue <Residue HIS het=  resseq=68 icode= >\n",
      "Assessing Residue <Residue LEU het=  resseq=69 icode= >\n",
      "Assessing Residue <Residue VAL het=  resseq=70 icode= >\n",
      "Assessing Residue <Residue LEU het=  resseq=71 icode= >\n",
      "Assessing Residue <Residue ARG het=  resseq=72 icode= >\n",
      "Assessing Residue <Residue LEU het=  resseq=73 icode= >\n",
      "Assessing Residue <Residue ARG het=  resseq=74 icode= >\n",
      "Assessing Residue <Residue GLY het=  resseq=75 icode= >\n",
      "Assessing Residue <Residue GLY het=  resseq=76 icode= >\n"
     ]
    }
   ],
   "source": [
    "for item in all_files:\n",
    "    file, extension = os.path.splitext(item)\n",
    "    if ((extension == '.pdb')&(file[-6:]=='-clean')):\n",
    "        proc_file +=1\n",
    "        structure_id = file\n",
    "        filename = os.path.join(pdb_path,item)\n",
    "        structure = parser.get_structure(structure_id,filename)\n",
    "\n",
    "# Populate a grid with atomic densities:--------------------------------------\n",
    "        grid_min = np.array([-21.5,-58.9,-18.6])-20\n",
    "        grid_max = np.array([11.8,3.6,44.5])+20\n",
    "\n",
    "        linx = np.arange(grid_min[0],grid_max[0],dx)\n",
    "        liny = np.arange(grid_min[1],grid_max[1],dx)\n",
    "        linz = np.arange(grid_min[2],grid_max[2],dx)\n",
    "\n",
    "        gridx, gridy, gridz = np.meshgrid(linx,liny,linz)\n",
    "        gridshape = np.shape(gridx)\n",
    "        carbon_density = np.zeros([np.shape(linx)[0],np.shape(liny)[0],np.shape(linz)[0]])\n",
    "        nitrogen_density = np.zeros([np.shape(linx)[0],np.shape(liny)[0],np.shape(linz)[0]])\n",
    "        oxygen_density = np.zeros([np.shape(linx)[0],np.shape(liny)[0],np.shape(linz)[0]])\n",
    "        sulfur_density = np.zeros([np.shape(linx)[0],np.shape(liny)[0],np.shape(linz)[0]])\n",
    "\n",
    "        for residue in structure.get_residues(): \n",
    "#             print('Assessing Residue', residue)\n",
    "            for atom in residue.get_list():\n",
    "                #print(atom.get_name()[0])\n",
    "                if atom.get_name()[0]=='C':\n",
    "                    atomcoord = atom.get_coord()\n",
    "                    for x in np.where(abs(linx-atomcoord[0])<side_length/2.0)[0]:\n",
    "                        for y in np.where(abs(liny-atomcoord[1])<side_length/2.0)[0]:\n",
    "                            for z in np.where(abs(linz-atomcoord[2])<side_length/2.0)[0]:\n",
    "                                pointcoord = np.array([linx[x],liny[y],linz[z]])\n",
    "                                carbon_density[x,y,z] += atom_density(np.linalg.norm(pointcoord-atomcoord),std)\n",
    "\n",
    "                elif atom.get_name()[0]=='N':\n",
    "                    atomcoord = atom.get_coord()\n",
    "                    for x in np.where(abs(linx-atomcoord[0])<side_length/2.0)[0]:\n",
    "                        for y in np.where(abs(liny-atomcoord[1])<side_length/2.0)[0]:\n",
    "                            for z in np.where(abs(linz-atomcoord[2])<side_length/2.0)[0]:\n",
    "                                pointcoord = np.array([linx[x],liny[y],linz[z]])\n",
    "                                nitrogen_density[x,y,z] += atom_density(np.linalg.norm(pointcoord-atomcoord),std)\n",
    "\n",
    "                elif atom.get_name()[0]=='O':\n",
    "                    atomcoord = atom.get_coord()\n",
    "                    for x in np.where(abs(linx-atomcoord[0])<side_length/2.0)[0]:\n",
    "                        for y in np.where(abs(liny-atomcoord[1])<side_length/2.0)[0]:\n",
    "                            for z in np.where(abs(linz-atomcoord[2])<side_length/2.0)[0]:\n",
    "                                pointcoord = np.array([linx[x],liny[y],linz[z]])\n",
    "                                oxygen_density[x,y,z] += atom_density(np.linalg.norm(pointcoord-atomcoord),std)\n",
    "\n",
    "                elif atom.get_name()[0]=='S':\n",
    "                    atomcoord = atom.get_coord()\n",
    "                    for x in np.where(abs(linx-atomcoord[0])<side_length/2.0)[0]:\n",
    "                        for y in np.where(abs(liny-atomcoord[1])<side_length/2.0)[0]:\n",
    "                            for z in np.where(abs(linz-atomcoord[2])<side_length/2.0)[0]:\n",
    "                                pointcoord = np.array([linx[x],liny[y],linz[z]])\n",
    "                                sulfur_density[x,y,z] += atom_density(np.linalg.norm(pointcoord-atomcoord),std)\n",
    "\n",
    "                elif atom.get_name()[0]=='H':\n",
    "                    atomcoord = atom.get_coord()\n",
    "\n",
    "                else:\n",
    "                    print('WARNINGWARNINGWARNING: Unknown Atom:',atom.get_name()[0])\n",
    "    \n",
    "    pname = structure_id + '.pickle'\n",
    "    #picklename = os.path.join(pickle_path,pname)    \n",
    "    #pickle_out = open(picklename,\"wb\")\n",
    "    #pickle.dump([carbon_density,nitrogen_density,oxygen_density,sulfur_density], pickle_out)\n",
    "    #pickle_out.close()"
   ]
  },
  {
   "cell_type": "code",
   "execution_count": 37,
   "metadata": {},
   "outputs": [
    {
     "name": "stdout",
     "output_type": "stream",
     "text": [
      "Unprocessed files:  4\n"
     ]
    }
   ],
   "source": [
    "print('Unprocessed files: ',(len(all_files)-proc_file))"
   ]
  },
  {
   "cell_type": "code",
   "execution_count": 34,
   "metadata": {},
   "outputs": [
    {
     "name": "stdout",
     "output_type": "stream",
     "text": [
      "Time Elapsed:  513.7904179096222\n"
     ]
    }
   ],
   "source": [
    "end = time.time()\n",
    "\n",
    "print('Time Elapsed: ',end-start)"
   ]
  },
  {
   "cell_type": "code",
   "execution_count": null,
   "metadata": {},
   "outputs": [],
   "source": []
  }
 ],
 "metadata": {
  "kernelspec": {
   "display_name": "Python 3",
   "language": "python",
   "name": "python3"
  },
  "language_info": {
   "codemirror_mode": {
    "name": "ipython",
    "version": 3
   },
   "file_extension": ".py",
   "mimetype": "text/x-python",
   "name": "python",
   "nbconvert_exporter": "python",
   "pygments_lexer": "ipython3",
   "version": "3.6.6"
  }
 },
 "nbformat": 4,
 "nbformat_minor": 2
}
